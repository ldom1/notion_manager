{
 "cells": [
  {
   "cell_type": "code",
   "execution_count": null,
   "metadata": {},
   "outputs": [],
   "source": [
    "import pandas as pd\n",
    "\n",
    "from notion_manager import config, mapping\n",
    "from notion_manager.data_processing.data_processing import process_forecasts_summary, process_realise_summary\n",
    "\n",
    "from notion_manager.notion.database.temps_projet_database import (\n",
    "    NotionTempsProjectDatabase,\n",
    ")\n"
   ]
  },
  {
   "cell_type": "code",
   "execution_count": 2,
   "metadata": {},
   "outputs": [],
   "source": [
    "temps_projet = NotionTempsProjectDatabase()"
   ]
  },
  {
   "cell_type": "markdown",
   "metadata": {},
   "source": [
    "# Forecast - Planification des jours dans TimeSheet"
   ]
  },
  {
   "cell_type": "code",
   "execution_count": null,
   "metadata": {},
   "outputs": [],
   "source": [
    "# Forecast summary\n",
    "config.logger.info(\"Processing forecast summary...\")\n",
    "forecasts_summary = pd.read_excel(\"data/forecasts_summary.xlsx\", sheet_name=\"detail\")\n",
    "config.logger.info(\"Getting notion temps projet database...\")\n",
    "\n",
    "for prj, mapping_prj in mapping.MY_PROJECT_NAME_DICT.items():\n",
    "    config.logger.info(f\"Processing forecast summary for project {prj}...\")\n",
    "    # Filter the DataFrame as before\n",
    "    forecasts_summary_project = process_forecasts_summary(\n",
    "        forecasts_summary=forecasts_summary, mapping_prj=mapping_prj\n",
    "    )\n",
    "\n",
    "    # Convert project in notion project name\n",
    "    forecasts_summary_project[\"Project\"] = mapping_prj[\"notion_name\"]\n",
    "\n",
    "    for index, row in forecasts_summary_project.iterrows():\n",
    "        temps_projet.create_or_update_one_timeslot(\n",
    "            page_name=row[\"Page name\"],\n",
    "            client=row[\"Client (if project)\"],\n",
    "            project=row[\"Project\"],\n",
    "            username=row[\"Name\"],\n",
    "            year=row[\"Year\"],\n",
    "            month=row[\"Month\"],\n",
    "            week=row[\"Week\"],\n",
    "            volume_planifie=row[\"Planned days\"],\n",
    "        )"
   ]
  },
  {
   "cell_type": "markdown",
   "metadata": {},
   "source": [
    "# Realisé - Jours réalisés dans TimeSheet"
   ]
  },
  {
   "cell_type": "code",
   "execution_count": 3,
   "metadata": {},
   "outputs": [
    {
     "name": "stdout",
     "output_type": "stream",
     "text": [
      "\u001b[32m2024-11-04 18:03:14\u001b[0m |\u001b[31m PID 222304\u001b[0m | \u001b[1mINFO    \u001b[0m| \u001b[36m__main__\u001b[0m:\u001b[36m<module>\u001b[0m:\u001b[36m2\u001b[0m - \u001b[1mProcessing timesheet realise summary...\u001b[0m\n",
      "\u001b[32m2024-11-04 18:03:49\u001b[0m |\u001b[31m PID 222304\u001b[0m | \u001b[1mINFO    \u001b[0m| \u001b[36m__main__\u001b[0m:\u001b[36m<module>\u001b[0m:\u001b[36m9\u001b[0m - \u001b[1mProcessing forecast summary for project orace...\u001b[0m\n",
      "\u001b[32m2024-11-04 18:03:50\u001b[0m |\u001b[31m PID 222304\u001b[0m | \u001b[1mINFO    \u001b[0m| \u001b[36mnotion_manager.notion.database.temps_projet_database\u001b[0m:\u001b[36mcreate_or_update_one_timeslot\u001b[0m:\u001b[36m303\u001b[0m - \u001b[1mUpdating timeslot EDF R&D - ORACE (Outil de Requêtage/Agrégation/Analyse des Courbes de charge Entreprises) - Louis Giron - W36\u001b[0m\n",
      "\u001b[32m2024-11-04 18:03:50\u001b[0m |\u001b[31m PID 222304\u001b[0m | \u001b[1mINFO    \u001b[0m| \u001b[36mnotion_manager.notion.database.temps_projet_database\u001b[0m:\u001b[36mcreate_or_update_one_timeslot\u001b[0m:\u001b[36m303\u001b[0m - \u001b[1mUpdating timeslot EDF R&D - ORACE (Outil de Requêtage/Agrégation/Analyse des Courbes de charge Entreprises) - Louis Giron - W37\u001b[0m\n",
      "\u001b[32m2024-11-04 18:03:51\u001b[0m |\u001b[31m PID 222304\u001b[0m | \u001b[1mINFO    \u001b[0m| \u001b[36mnotion_manager.notion.database.temps_projet_database\u001b[0m:\u001b[36mcreate_or_update_one_timeslot\u001b[0m:\u001b[36m303\u001b[0m - \u001b[1mUpdating timeslot EDF R&D - ORACE (Outil de Requêtage/Agrégation/Analyse des Courbes de charge Entreprises) - Louis Giron - W38\u001b[0m\n",
      "\u001b[32m2024-11-04 18:03:52\u001b[0m |\u001b[31m PID 222304\u001b[0m | \u001b[1mINFO    \u001b[0m| \u001b[36mnotion_manager.notion.database.temps_projet_database\u001b[0m:\u001b[36mcreate_or_update_one_timeslot\u001b[0m:\u001b[36m303\u001b[0m - \u001b[1mUpdating timeslot EDF R&D - ORACE (Outil de Requêtage/Agrégation/Analyse des Courbes de charge Entreprises) - Louis Giron - W39\u001b[0m\n",
      "\u001b[32m2024-11-04 18:03:52\u001b[0m |\u001b[31m PID 222304\u001b[0m | \u001b[1mINFO    \u001b[0m| \u001b[36mnotion_manager.notion.database.temps_projet_database\u001b[0m:\u001b[36mcreate_or_update_one_timeslot\u001b[0m:\u001b[36m303\u001b[0m - \u001b[1mUpdating timeslot EDF R&D - ORACE (Outil de Requêtage/Agrégation/Analyse des Courbes de charge Entreprises) - Louis Giron - W42\u001b[0m\n",
      "\u001b[32m2024-11-04 18:03:53\u001b[0m |\u001b[31m PID 222304\u001b[0m | \u001b[1mINFO    \u001b[0m| \u001b[36mnotion_manager.notion.database.temps_projet_database\u001b[0m:\u001b[36mcreate_or_update_one_timeslot\u001b[0m:\u001b[36m303\u001b[0m - \u001b[1mUpdating timeslot EDF R&D - ORACE (Outil de Requêtage/Agrégation/Analyse des Courbes de charge Entreprises) - Louis Giron - W43\u001b[0m\n",
      "\u001b[32m2024-11-04 18:03:54\u001b[0m |\u001b[31m PID 222304\u001b[0m | \u001b[1mINFO    \u001b[0m| \u001b[36mnotion_manager.notion.database.temps_projet_database\u001b[0m:\u001b[36mcreate_or_update_one_timeslot\u001b[0m:\u001b[36m303\u001b[0m - \u001b[1mUpdating timeslot EDF R&D - ORACE (Outil de Requêtage/Agrégation/Analyse des Courbes de charge Entreprises) - Louis Giron - W44\u001b[0m\n",
      "\u001b[32m2024-11-04 18:03:54\u001b[0m |\u001b[31m PID 222304\u001b[0m | \u001b[1mINFO    \u001b[0m| \u001b[36mnotion_manager.notion.database.temps_projet_database\u001b[0m:\u001b[36mcreate_or_update_one_timeslot\u001b[0m:\u001b[36m303\u001b[0m - \u001b[1mUpdating timeslot EDF R&D - ORACE (Outil de Requêtage/Agrégation/Analyse des Courbes de charge Entreprises) - Paul-Alexandre Bouhana - W36\u001b[0m\n",
      "\u001b[32m2024-11-04 18:03:56\u001b[0m |\u001b[31m PID 222304\u001b[0m | \u001b[1mINFO    \u001b[0m| \u001b[36mnotion_manager.notion.database.temps_projet_database\u001b[0m:\u001b[36mcreate_or_update_one_timeslot\u001b[0m:\u001b[36m303\u001b[0m - \u001b[1mUpdating timeslot EDF R&D - ORACE (Outil de Requêtage/Agrégation/Analyse des Courbes de charge Entreprises) - Paul-Alexandre Bouhana - W37\u001b[0m\n",
      "\u001b[32m2024-11-04 18:03:56\u001b[0m |\u001b[31m PID 222304\u001b[0m | \u001b[1mINFO    \u001b[0m| \u001b[36mnotion_manager.notion.database.temps_projet_database\u001b[0m:\u001b[36mcreate_or_update_one_timeslot\u001b[0m:\u001b[36m303\u001b[0m - \u001b[1mUpdating timeslot EDF R&D - ORACE (Outil de Requêtage/Agrégation/Analyse des Courbes de charge Entreprises) - Paul-Alexandre Bouhana - W38\u001b[0m\n",
      "\u001b[32m2024-11-04 18:03:57\u001b[0m |\u001b[31m PID 222304\u001b[0m | \u001b[1mINFO    \u001b[0m| \u001b[36mnotion_manager.notion.database.temps_projet_database\u001b[0m:\u001b[36mcreate_or_update_one_timeslot\u001b[0m:\u001b[36m303\u001b[0m - \u001b[1mUpdating timeslot EDF R&D - ORACE (Outil de Requêtage/Agrégation/Analyse des Courbes de charge Entreprises) - Paul-Alexandre Bouhana - W39\u001b[0m\n",
      "\u001b[32m2024-11-04 18:03:57\u001b[0m |\u001b[31m PID 222304\u001b[0m | \u001b[1mINFO    \u001b[0m| \u001b[36mnotion_manager.notion.database.temps_projet_database\u001b[0m:\u001b[36mcreate_or_update_one_timeslot\u001b[0m:\u001b[36m303\u001b[0m - \u001b[1mUpdating timeslot EDF R&D - ORACE (Outil de Requêtage/Agrégation/Analyse des Courbes de charge Entreprises) - Simon Demouchy - W36\u001b[0m\n",
      "\u001b[32m2024-11-04 18:03:58\u001b[0m |\u001b[31m PID 222304\u001b[0m | \u001b[1mINFO    \u001b[0m| \u001b[36mnotion_manager.notion.database.temps_projet_database\u001b[0m:\u001b[36mcreate_or_update_one_timeslot\u001b[0m:\u001b[36m303\u001b[0m - \u001b[1mUpdating timeslot EDF R&D - ORACE (Outil de Requêtage/Agrégation/Analyse des Courbes de charge Entreprises) - Simon Demouchy - W37\u001b[0m\n",
      "\u001b[32m2024-11-04 18:03:59\u001b[0m |\u001b[31m PID 222304\u001b[0m | \u001b[1mINFO    \u001b[0m| \u001b[36mnotion_manager.notion.database.temps_projet_database\u001b[0m:\u001b[36mcreate_or_update_one_timeslot\u001b[0m:\u001b[36m303\u001b[0m - \u001b[1mUpdating timeslot EDF R&D - ORACE (Outil de Requêtage/Agrégation/Analyse des Courbes de charge Entreprises) - Simon Demouchy - W38\u001b[0m\n",
      "\u001b[32m2024-11-04 18:04:01\u001b[0m |\u001b[31m PID 222304\u001b[0m | \u001b[1mINFO    \u001b[0m| \u001b[36mnotion_manager.notion.database.temps_projet_database\u001b[0m:\u001b[36mcreate_or_update_one_timeslot\u001b[0m:\u001b[36m303\u001b[0m - \u001b[1mUpdating timeslot EDF R&D - ORACE (Outil de Requêtage/Agrégation/Analyse des Courbes de charge Entreprises) - Simon Demouchy - W39\u001b[0m\n",
      "\u001b[32m2024-11-04 18:04:02\u001b[0m |\u001b[31m PID 222304\u001b[0m | \u001b[1mINFO    \u001b[0m| \u001b[36mnotion_manager.notion.database.temps_projet_database\u001b[0m:\u001b[36mcreate_or_update_one_timeslot\u001b[0m:\u001b[36m303\u001b[0m - \u001b[1mUpdating timeslot EDF R&D - ORACE (Outil de Requêtage/Agrégation/Analyse des Courbes de charge Entreprises) - Simon Demouchy - W40\u001b[0m\n",
      "\u001b[32m2024-11-04 18:04:02\u001b[0m |\u001b[31m PID 222304\u001b[0m | \u001b[1mINFO    \u001b[0m| \u001b[36mnotion_manager.notion.database.temps_projet_database\u001b[0m:\u001b[36mcreate_or_update_one_timeslot\u001b[0m:\u001b[36m303\u001b[0m - \u001b[1mUpdating timeslot EDF R&D - ORACE (Outil de Requêtage/Agrégation/Analyse des Courbes de charge Entreprises) - Simon Demouchy - W41\u001b[0m\n",
      "\u001b[32m2024-11-04 18:04:03\u001b[0m |\u001b[31m PID 222304\u001b[0m | \u001b[1mINFO    \u001b[0m| \u001b[36mnotion_manager.notion.database.temps_projet_database\u001b[0m:\u001b[36mcreate_or_update_one_timeslot\u001b[0m:\u001b[36m303\u001b[0m - \u001b[1mUpdating timeslot EDF R&D - ORACE (Outil de Requêtage/Agrégation/Analyse des Courbes de charge Entreprises) - Simon Demouchy - W42\u001b[0m\n",
      "\u001b[32m2024-11-04 18:04:04\u001b[0m |\u001b[31m PID 222304\u001b[0m | \u001b[1mINFO    \u001b[0m| \u001b[36mnotion_manager.notion.database.temps_projet_database\u001b[0m:\u001b[36mcreate_or_update_one_timeslot\u001b[0m:\u001b[36m303\u001b[0m - \u001b[1mUpdating timeslot EDF R&D - ORACE (Outil de Requêtage/Agrégation/Analyse des Courbes de charge Entreprises) - Simon Demouchy - W43\u001b[0m\n"
     ]
    }
   ],
   "source": [
    "# Realisé summary\n",
    "config.logger.info(\"Processing timesheet realise summary...\")\n",
    "realise_summary = pd.read_excel(\"data/timesheets_summary.xlsx\", sheet_name=\"summary\")\n",
    "\n",
    "for prj, mapping_prj in mapping.MY_PROJECT_NAME_DICT.items():\n",
    "    config.logger.info(f\"Processing forecast summary for project {prj}...\")\n",
    "\n",
    "    realise_summary_project = process_realise_summary(\n",
    "        realise_summary=realise_summary, mapping_prj=mapping_prj\n",
    "    )\n",
    "\n",
    "    for index, row in realise_summary_project.iterrows():\n",
    "        temps_projet.create_or_update_one_timeslot(\n",
    "            page_name=row[\"page_name\"],\n",
    "            client=row[\"client\"],\n",
    "            project=row[\"project\"],\n",
    "            username=row[\"username\"],\n",
    "            year=row[\"year\"],\n",
    "            month=row[\"month\"],\n",
    "            week=row[\"week\"],\n",
    "            volume_realise=row[\"volume\"],\n",
    "        )\n"
   ]
  },
  {
   "cell_type": "code",
   "execution_count": null,
   "metadata": {},
   "outputs": [],
   "source": []
  },
  {
   "cell_type": "code",
   "execution_count": null,
   "metadata": {},
   "outputs": [],
   "source": []
  }
 ],
 "metadata": {
  "kernelspec": {
   "display_name": ".venv",
   "language": "python",
   "name": "python3"
  },
  "language_info": {
   "codemirror_mode": {
    "name": "ipython",
    "version": 3
   },
   "file_extension": ".py",
   "mimetype": "text/x-python",
   "name": "python",
   "nbconvert_exporter": "python",
   "pygments_lexer": "ipython3",
   "version": "3.10.11"
  }
 },
 "nbformat": 4,
 "nbformat_minor": 2
}
