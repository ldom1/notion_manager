{
 "cells": [
  {
   "cell_type": "code",
   "execution_count": 9,
   "metadata": {},
   "outputs": [],
   "source": [
    "import pandas as pd"
   ]
  },
  {
   "cell_type": "code",
   "execution_count": 10,
   "metadata": {},
   "outputs": [],
   "source": [
    "df = pd.read_excel(\"data/timesheets_summary.xlsx\", sheet_name=\"summary\")\n",
    "\n",
    "my_project_name = {\n",
    "    \"Evaluation de la refonte Fosphor\": \"a667a0ab-8290-401f-b2fb-f7fe96a292c8\",\n",
    "    \"ACE SG - KPIs déportés\": \"a7d39f9f-cd56-4403-9acf-03cef2690660\"\n",
    "}\n",
    "\n",
    "my_project_df = df[df[\"project\"].isin(my_project_name)]\n",
    "\n",
    "my_project_df_gr = my_project_df.groupby(\n",
    "    [\"client\", \"project\", \"task\", \"username\", \"week\"],\n",
    "    as_index=False\n",
    ")[\"volume\"].sum()\n",
    "\n",
    "my_project_df_gr[\"project_id\"] = my_project_df_gr[\"project\"].map(my_project_name)"
   ]
  },
  {
   "cell_type": "code",
   "execution_count": 13,
   "metadata": {},
   "outputs": [
    {
     "data": {
      "text/html": [
       "<div>\n",
       "<style scoped>\n",
       "    .dataframe tbody tr th:only-of-type {\n",
       "        vertical-align: middle;\n",
       "    }\n",
       "\n",
       "    .dataframe tbody tr th {\n",
       "        vertical-align: top;\n",
       "    }\n",
       "\n",
       "    .dataframe thead th {\n",
       "        text-align: right;\n",
       "    }\n",
       "</style>\n",
       "<table border=\"1\" class=\"dataframe\">\n",
       "  <thead>\n",
       "    <tr style=\"text-align: right;\">\n",
       "      <th></th>\n",
       "      <th>username</th>\n",
       "      <th>volume</th>\n",
       "    </tr>\n",
       "  </thead>\n",
       "  <tbody>\n",
       "    <tr>\n",
       "      <th>0</th>\n",
       "      <td>Aya Hankir</td>\n",
       "      <td>11.40</td>\n",
       "    </tr>\n",
       "    <tr>\n",
       "      <th>1</th>\n",
       "      <td>Jimmy Abner</td>\n",
       "      <td>1.75</td>\n",
       "    </tr>\n",
       "    <tr>\n",
       "      <th>2</th>\n",
       "      <td>Louis Giron</td>\n",
       "      <td>8.30</td>\n",
       "    </tr>\n",
       "    <tr>\n",
       "      <th>3</th>\n",
       "      <td>Paul-Alexandre Bouhana</td>\n",
       "      <td>1.95</td>\n",
       "    </tr>\n",
       "  </tbody>\n",
       "</table>\n",
       "</div>"
      ],
      "text/plain": [
       "                 username  volume\n",
       "0              Aya Hankir   11.40\n",
       "1             Jimmy Abner    1.75\n",
       "2             Louis Giron    8.30\n",
       "3  Paul-Alexandre Bouhana    1.95"
      ]
     },
     "execution_count": 13,
     "metadata": {},
     "output_type": "execute_result"
    }
   ],
   "source": [
    "(\n",
    "    my_project_df_gr[my_project_df_gr[\"project\"] == \"Evaluation de la refonte Fosphor\"]\n",
    "    .groupby(\n",
    "        [\"username\"],\n",
    "        as_index=False\n",
    "    )\n",
    "    [\"volume\"].sum()\n",
    ")"
   ]
  },
  {
   "cell_type": "code",
   "execution_count": null,
   "metadata": {},
   "outputs": [],
   "source": []
  }
 ],
 "metadata": {
  "kernelspec": {
   "display_name": ".venv",
   "language": "python",
   "name": "python3"
  },
  "language_info": {
   "codemirror_mode": {
    "name": "ipython",
    "version": 3
   },
   "file_extension": ".py",
   "mimetype": "text/x-python",
   "name": "python",
   "nbconvert_exporter": "python",
   "pygments_lexer": "ipython3",
   "version": "3.10.11"
  }
 },
 "nbformat": 4,
 "nbformat_minor": 2
}
